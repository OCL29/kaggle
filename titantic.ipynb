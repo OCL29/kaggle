{
 "cells": [
  {
   "cell_type": "markdown",
   "id": "03bdc66f",
   "metadata": {
    "_cell_guid": "e12020f7-4f94-4ecc-9007-9b7a6e7458a6",
    "_uuid": "1fecb0980d8d422ec0f005c4bfd6225385c2c60f",
    "papermill": {
     "duration": 0.026629,
     "end_time": "2022-04-18T03:26:57.666467",
     "exception": false,
     "start_time": "2022-04-18T03:26:57.639838",
     "status": "completed"
    },
    "tags": []
   },
   "source": [
    "This notebook is a sample code with Japanese comments.\n",
    "\n",
    "# 2.1 まずはsubmit！　順位表に載ってみよう"
   ]
  },
  {
   "cell_type": "code",
   "execution_count": 1,
   "id": "ff2591cb",
   "metadata": {
    "_uuid": "6413a13d8a260043bda237e211bd962582eb7ff2",
    "execution": {
     "iopub.execute_input": "2022-04-18T03:26:57.720030Z",
     "iopub.status.busy": "2022-04-18T03:26:57.719584Z",
     "iopub.status.idle": "2022-04-18T03:26:57.730796Z",
     "shell.execute_reply": "2022-04-18T03:26:57.730203Z"
    },
    "papermill": {
     "duration": 0.042164,
     "end_time": "2022-04-18T03:26:57.732941",
     "exception": false,
     "start_time": "2022-04-18T03:26:57.690777",
     "status": "completed"
    },
    "tags": []
   },
   "outputs": [],
   "source": [
    "import numpy as np\n",
    "import pandas as pd"
   ]
  },
  {
   "cell_type": "markdown",
   "id": "0fe4a1fa",
   "metadata": {
    "_cell_guid": "d49e43e8-0dc0-41b7-afd0-60acc96e9f07",
    "_uuid": "4ecd55c5bd48390d026eeb6ae8de0a7ace0d4ada",
    "papermill": {
     "duration": 0.025726,
     "end_time": "2022-04-18T03:26:57.785164",
     "exception": false,
     "start_time": "2022-04-18T03:26:57.759438",
     "status": "completed"
    },
    "tags": []
   },
   "source": [
    "## データの読み込み"
   ]
  },
  {
   "cell_type": "code",
   "execution_count": 2,
   "id": "c4d623ca",
   "metadata": {
    "execution": {
     "iopub.execute_input": "2022-04-18T03:26:57.838709Z",
     "iopub.status.busy": "2022-04-18T03:26:57.838087Z",
     "iopub.status.idle": "2022-04-18T03:26:58.655206Z",
     "shell.execute_reply": "2022-04-18T03:26:58.653943Z"
    },
    "papermill": {
     "duration": 0.846901,
     "end_time": "2022-04-18T03:26:58.658382",
     "exception": false,
     "start_time": "2022-04-18T03:26:57.811481",
     "status": "completed"
    },
    "tags": []
   },
   "outputs": [
    {
     "name": "stdout",
     "output_type": "stream",
     "text": [
      "gender_submission.csv  test.csv  train.csv\r\n"
     ]
    }
   ],
   "source": [
    "!ls ../input/titanic"
   ]
  },
  {
   "cell_type": "code",
   "execution_count": 3,
   "id": "0cfeb43c",
   "metadata": {
    "_cell_guid": "9c963eb3-04ac-422c-bc0c-4373bda6880e",
    "_uuid": "95f406c4d2f1dab6744ea248b80e3a535c652450",
    "execution": {
     "iopub.execute_input": "2022-04-18T03:26:58.710316Z",
     "iopub.status.busy": "2022-04-18T03:26:58.709985Z",
     "iopub.status.idle": "2022-04-18T03:26:58.745300Z",
     "shell.execute_reply": "2022-04-18T03:26:58.744559Z"
    },
    "papermill": {
     "duration": 0.064644,
     "end_time": "2022-04-18T03:26:58.747530",
     "exception": false,
     "start_time": "2022-04-18T03:26:58.682886",
     "status": "completed"
    },
    "tags": []
   },
   "outputs": [],
   "source": [
    "train = pd.read_csv('../input/titanic/train.csv')\n",
    "test = pd.read_csv('../input/titanic/test.csv')\n",
    "gender_submission = pd.read_csv('../input/titanic/gender_submission.csv')"
   ]
  },
  {
   "cell_type": "code",
   "execution_count": 4,
   "id": "11f8deff",
   "metadata": {
    "execution": {
     "iopub.execute_input": "2022-04-18T03:26:58.801566Z",
     "iopub.status.busy": "2022-04-18T03:26:58.800969Z",
     "iopub.status.idle": "2022-04-18T03:26:58.819252Z",
     "shell.execute_reply": "2022-04-18T03:26:58.818371Z"
    },
    "papermill": {
     "duration": 0.049308,
     "end_time": "2022-04-18T03:26:58.822000",
     "exception": false,
     "start_time": "2022-04-18T03:26:58.772692",
     "status": "completed"
    },
    "tags": []
   },
   "outputs": [
    {
     "data": {
      "text/html": [
       "<div>\n",
       "<style scoped>\n",
       "    .dataframe tbody tr th:only-of-type {\n",
       "        vertical-align: middle;\n",
       "    }\n",
       "\n",
       "    .dataframe tbody tr th {\n",
       "        vertical-align: top;\n",
       "    }\n",
       "\n",
       "    .dataframe thead th {\n",
       "        text-align: right;\n",
       "    }\n",
       "</style>\n",
       "<table border=\"1\" class=\"dataframe\">\n",
       "  <thead>\n",
       "    <tr style=\"text-align: right;\">\n",
       "      <th></th>\n",
       "      <th>PassengerId</th>\n",
       "      <th>Survived</th>\n",
       "    </tr>\n",
       "  </thead>\n",
       "  <tbody>\n",
       "    <tr>\n",
       "      <th>0</th>\n",
       "      <td>892</td>\n",
       "      <td>0</td>\n",
       "    </tr>\n",
       "    <tr>\n",
       "      <th>1</th>\n",
       "      <td>893</td>\n",
       "      <td>1</td>\n",
       "    </tr>\n",
       "    <tr>\n",
       "      <th>2</th>\n",
       "      <td>894</td>\n",
       "      <td>0</td>\n",
       "    </tr>\n",
       "    <tr>\n",
       "      <th>3</th>\n",
       "      <td>895</td>\n",
       "      <td>0</td>\n",
       "    </tr>\n",
       "    <tr>\n",
       "      <th>4</th>\n",
       "      <td>896</td>\n",
       "      <td>1</td>\n",
       "    </tr>\n",
       "  </tbody>\n",
       "</table>\n",
       "</div>"
      ],
      "text/plain": [
       "   PassengerId  Survived\n",
       "0          892         0\n",
       "1          893         1\n",
       "2          894         0\n",
       "3          895         0\n",
       "4          896         1"
      ]
     },
     "execution_count": 4,
     "metadata": {},
     "output_type": "execute_result"
    }
   ],
   "source": [
    "gender_submission.head()"
   ]
  },
  {
   "cell_type": "code",
   "execution_count": 5,
   "id": "bd0ccad2",
   "metadata": {
    "execution": {
     "iopub.execute_input": "2022-04-18T03:26:58.874860Z",
     "iopub.status.busy": "2022-04-18T03:26:58.874460Z",
     "iopub.status.idle": "2022-04-18T03:26:58.888755Z",
     "shell.execute_reply": "2022-04-18T03:26:58.887974Z"
    },
    "papermill": {
     "duration": 0.043457,
     "end_time": "2022-04-18T03:26:58.890700",
     "exception": false,
     "start_time": "2022-04-18T03:26:58.847243",
     "status": "completed"
    },
    "tags": []
   },
   "outputs": [
    {
     "data": {
      "text/html": [
       "<div>\n",
       "<style scoped>\n",
       "    .dataframe tbody tr th:only-of-type {\n",
       "        vertical-align: middle;\n",
       "    }\n",
       "\n",
       "    .dataframe tbody tr th {\n",
       "        vertical-align: top;\n",
       "    }\n",
       "\n",
       "    .dataframe thead th {\n",
       "        text-align: right;\n",
       "    }\n",
       "</style>\n",
       "<table border=\"1\" class=\"dataframe\">\n",
       "  <thead>\n",
       "    <tr style=\"text-align: right;\">\n",
       "      <th></th>\n",
       "      <th>PassengerId</th>\n",
       "      <th>Survived</th>\n",
       "      <th>Pclass</th>\n",
       "      <th>Name</th>\n",
       "      <th>Sex</th>\n",
       "      <th>Age</th>\n",
       "      <th>SibSp</th>\n",
       "      <th>Parch</th>\n",
       "      <th>Ticket</th>\n",
       "      <th>Fare</th>\n",
       "      <th>Cabin</th>\n",
       "      <th>Embarked</th>\n",
       "    </tr>\n",
       "  </thead>\n",
       "  <tbody>\n",
       "    <tr>\n",
       "      <th>0</th>\n",
       "      <td>1</td>\n",
       "      <td>0</td>\n",
       "      <td>3</td>\n",
       "      <td>Braund, Mr. Owen Harris</td>\n",
       "      <td>male</td>\n",
       "      <td>22.0</td>\n",
       "      <td>1</td>\n",
       "      <td>0</td>\n",
       "      <td>A/5 21171</td>\n",
       "      <td>7.2500</td>\n",
       "      <td>NaN</td>\n",
       "      <td>S</td>\n",
       "    </tr>\n",
       "    <tr>\n",
       "      <th>1</th>\n",
       "      <td>2</td>\n",
       "      <td>1</td>\n",
       "      <td>1</td>\n",
       "      <td>Cumings, Mrs. John Bradley (Florence Briggs Th...</td>\n",
       "      <td>female</td>\n",
       "      <td>38.0</td>\n",
       "      <td>1</td>\n",
       "      <td>0</td>\n",
       "      <td>PC 17599</td>\n",
       "      <td>71.2833</td>\n",
       "      <td>C85</td>\n",
       "      <td>C</td>\n",
       "    </tr>\n",
       "    <tr>\n",
       "      <th>2</th>\n",
       "      <td>3</td>\n",
       "      <td>1</td>\n",
       "      <td>3</td>\n",
       "      <td>Heikkinen, Miss. Laina</td>\n",
       "      <td>female</td>\n",
       "      <td>26.0</td>\n",
       "      <td>0</td>\n",
       "      <td>0</td>\n",
       "      <td>STON/O2. 3101282</td>\n",
       "      <td>7.9250</td>\n",
       "      <td>NaN</td>\n",
       "      <td>S</td>\n",
       "    </tr>\n",
       "    <tr>\n",
       "      <th>3</th>\n",
       "      <td>4</td>\n",
       "      <td>1</td>\n",
       "      <td>1</td>\n",
       "      <td>Futrelle, Mrs. Jacques Heath (Lily May Peel)</td>\n",
       "      <td>female</td>\n",
       "      <td>35.0</td>\n",
       "      <td>1</td>\n",
       "      <td>0</td>\n",
       "      <td>113803</td>\n",
       "      <td>53.1000</td>\n",
       "      <td>C123</td>\n",
       "      <td>S</td>\n",
       "    </tr>\n",
       "    <tr>\n",
       "      <th>4</th>\n",
       "      <td>5</td>\n",
       "      <td>0</td>\n",
       "      <td>3</td>\n",
       "      <td>Allen, Mr. William Henry</td>\n",
       "      <td>male</td>\n",
       "      <td>35.0</td>\n",
       "      <td>0</td>\n",
       "      <td>0</td>\n",
       "      <td>373450</td>\n",
       "      <td>8.0500</td>\n",
       "      <td>NaN</td>\n",
       "      <td>S</td>\n",
       "    </tr>\n",
       "  </tbody>\n",
       "</table>\n",
       "</div>"
      ],
      "text/plain": [
       "   PassengerId  Survived  Pclass  \\\n",
       "0            1         0       3   \n",
       "1            2         1       1   \n",
       "2            3         1       3   \n",
       "3            4         1       1   \n",
       "4            5         0       3   \n",
       "\n",
       "                                                Name     Sex   Age  SibSp  \\\n",
       "0                            Braund, Mr. Owen Harris    male  22.0      1   \n",
       "1  Cumings, Mrs. John Bradley (Florence Briggs Th...  female  38.0      1   \n",
       "2                             Heikkinen, Miss. Laina  female  26.0      0   \n",
       "3       Futrelle, Mrs. Jacques Heath (Lily May Peel)  female  35.0      1   \n",
       "4                           Allen, Mr. William Henry    male  35.0      0   \n",
       "\n",
       "   Parch            Ticket     Fare Cabin Embarked  \n",
       "0      0         A/5 21171   7.2500   NaN        S  \n",
       "1      0          PC 17599  71.2833   C85        C  \n",
       "2      0  STON/O2. 3101282   7.9250   NaN        S  \n",
       "3      0            113803  53.1000  C123        S  \n",
       "4      0            373450   8.0500   NaN        S  "
      ]
     },
     "execution_count": 5,
     "metadata": {},
     "output_type": "execute_result"
    }
   ],
   "source": [
    "train.head()"
   ]
  },
  {
   "cell_type": "code",
   "execution_count": 6,
   "id": "aabc7855",
   "metadata": {
    "execution": {
     "iopub.execute_input": "2022-04-18T03:26:58.942839Z",
     "iopub.status.busy": "2022-04-18T03:26:58.941918Z",
     "iopub.status.idle": "2022-04-18T03:26:58.956148Z",
     "shell.execute_reply": "2022-04-18T03:26:58.955256Z"
    },
    "papermill": {
     "duration": 0.042537,
     "end_time": "2022-04-18T03:26:58.958306",
     "exception": false,
     "start_time": "2022-04-18T03:26:58.915769",
     "status": "completed"
    },
    "tags": []
   },
   "outputs": [
    {
     "data": {
      "text/html": [
       "<div>\n",
       "<style scoped>\n",
       "    .dataframe tbody tr th:only-of-type {\n",
       "        vertical-align: middle;\n",
       "    }\n",
       "\n",
       "    .dataframe tbody tr th {\n",
       "        vertical-align: top;\n",
       "    }\n",
       "\n",
       "    .dataframe thead th {\n",
       "        text-align: right;\n",
       "    }\n",
       "</style>\n",
       "<table border=\"1\" class=\"dataframe\">\n",
       "  <thead>\n",
       "    <tr style=\"text-align: right;\">\n",
       "      <th></th>\n",
       "      <th>PassengerId</th>\n",
       "      <th>Pclass</th>\n",
       "      <th>Name</th>\n",
       "      <th>Sex</th>\n",
       "      <th>Age</th>\n",
       "      <th>SibSp</th>\n",
       "      <th>Parch</th>\n",
       "      <th>Ticket</th>\n",
       "      <th>Fare</th>\n",
       "      <th>Cabin</th>\n",
       "      <th>Embarked</th>\n",
       "    </tr>\n",
       "  </thead>\n",
       "  <tbody>\n",
       "    <tr>\n",
       "      <th>0</th>\n",
       "      <td>892</td>\n",
       "      <td>3</td>\n",
       "      <td>Kelly, Mr. James</td>\n",
       "      <td>male</td>\n",
       "      <td>34.5</td>\n",
       "      <td>0</td>\n",
       "      <td>0</td>\n",
       "      <td>330911</td>\n",
       "      <td>7.8292</td>\n",
       "      <td>NaN</td>\n",
       "      <td>Q</td>\n",
       "    </tr>\n",
       "    <tr>\n",
       "      <th>1</th>\n",
       "      <td>893</td>\n",
       "      <td>3</td>\n",
       "      <td>Wilkes, Mrs. James (Ellen Needs)</td>\n",
       "      <td>female</td>\n",
       "      <td>47.0</td>\n",
       "      <td>1</td>\n",
       "      <td>0</td>\n",
       "      <td>363272</td>\n",
       "      <td>7.0000</td>\n",
       "      <td>NaN</td>\n",
       "      <td>S</td>\n",
       "    </tr>\n",
       "    <tr>\n",
       "      <th>2</th>\n",
       "      <td>894</td>\n",
       "      <td>2</td>\n",
       "      <td>Myles, Mr. Thomas Francis</td>\n",
       "      <td>male</td>\n",
       "      <td>62.0</td>\n",
       "      <td>0</td>\n",
       "      <td>0</td>\n",
       "      <td>240276</td>\n",
       "      <td>9.6875</td>\n",
       "      <td>NaN</td>\n",
       "      <td>Q</td>\n",
       "    </tr>\n",
       "    <tr>\n",
       "      <th>3</th>\n",
       "      <td>895</td>\n",
       "      <td>3</td>\n",
       "      <td>Wirz, Mr. Albert</td>\n",
       "      <td>male</td>\n",
       "      <td>27.0</td>\n",
       "      <td>0</td>\n",
       "      <td>0</td>\n",
       "      <td>315154</td>\n",
       "      <td>8.6625</td>\n",
       "      <td>NaN</td>\n",
       "      <td>S</td>\n",
       "    </tr>\n",
       "    <tr>\n",
       "      <th>4</th>\n",
       "      <td>896</td>\n",
       "      <td>3</td>\n",
       "      <td>Hirvonen, Mrs. Alexander (Helga E Lindqvist)</td>\n",
       "      <td>female</td>\n",
       "      <td>22.0</td>\n",
       "      <td>1</td>\n",
       "      <td>1</td>\n",
       "      <td>3101298</td>\n",
       "      <td>12.2875</td>\n",
       "      <td>NaN</td>\n",
       "      <td>S</td>\n",
       "    </tr>\n",
       "  </tbody>\n",
       "</table>\n",
       "</div>"
      ],
      "text/plain": [
       "   PassengerId  Pclass                                          Name     Sex  \\\n",
       "0          892       3                              Kelly, Mr. James    male   \n",
       "1          893       3              Wilkes, Mrs. James (Ellen Needs)  female   \n",
       "2          894       2                     Myles, Mr. Thomas Francis    male   \n",
       "3          895       3                              Wirz, Mr. Albert    male   \n",
       "4          896       3  Hirvonen, Mrs. Alexander (Helga E Lindqvist)  female   \n",
       "\n",
       "    Age  SibSp  Parch   Ticket     Fare Cabin Embarked  \n",
       "0  34.5      0      0   330911   7.8292   NaN        Q  \n",
       "1  47.0      1      0   363272   7.0000   NaN        S  \n",
       "2  62.0      0      0   240276   9.6875   NaN        Q  \n",
       "3  27.0      0      0   315154   8.6625   NaN        S  \n",
       "4  22.0      1      1  3101298  12.2875   NaN        S  "
      ]
     },
     "execution_count": 6,
     "metadata": {},
     "output_type": "execute_result"
    }
   ],
   "source": [
    "test.head()"
   ]
  },
  {
   "cell_type": "code",
   "execution_count": 7,
   "id": "a87b2b7a",
   "metadata": {
    "execution": {
     "iopub.execute_input": "2022-04-18T03:26:59.016704Z",
     "iopub.status.busy": "2022-04-18T03:26:59.016366Z",
     "iopub.status.idle": "2022-04-18T03:26:59.032755Z",
     "shell.execute_reply": "2022-04-18T03:26:59.031677Z"
    },
    "papermill": {
     "duration": 0.046197,
     "end_time": "2022-04-18T03:26:59.035221",
     "exception": false,
     "start_time": "2022-04-18T03:26:58.989024",
     "status": "completed"
    },
    "tags": []
   },
   "outputs": [],
   "source": [
    "data = pd.concat([train, test], sort=False)"
   ]
  },
  {
   "cell_type": "code",
   "execution_count": 8,
   "id": "4cd61838",
   "metadata": {
    "execution": {
     "iopub.execute_input": "2022-04-18T03:26:59.089064Z",
     "iopub.status.busy": "2022-04-18T03:26:59.088756Z",
     "iopub.status.idle": "2022-04-18T03:26:59.106857Z",
     "shell.execute_reply": "2022-04-18T03:26:59.105841Z"
    },
    "papermill": {
     "duration": 0.04795,
     "end_time": "2022-04-18T03:26:59.109664",
     "exception": false,
     "start_time": "2022-04-18T03:26:59.061714",
     "status": "completed"
    },
    "tags": []
   },
   "outputs": [
    {
     "data": {
      "text/html": [
       "<div>\n",
       "<style scoped>\n",
       "    .dataframe tbody tr th:only-of-type {\n",
       "        vertical-align: middle;\n",
       "    }\n",
       "\n",
       "    .dataframe tbody tr th {\n",
       "        vertical-align: top;\n",
       "    }\n",
       "\n",
       "    .dataframe thead th {\n",
       "        text-align: right;\n",
       "    }\n",
       "</style>\n",
       "<table border=\"1\" class=\"dataframe\">\n",
       "  <thead>\n",
       "    <tr style=\"text-align: right;\">\n",
       "      <th></th>\n",
       "      <th>PassengerId</th>\n",
       "      <th>Survived</th>\n",
       "      <th>Pclass</th>\n",
       "      <th>Name</th>\n",
       "      <th>Sex</th>\n",
       "      <th>Age</th>\n",
       "      <th>SibSp</th>\n",
       "      <th>Parch</th>\n",
       "      <th>Ticket</th>\n",
       "      <th>Fare</th>\n",
       "      <th>Cabin</th>\n",
       "      <th>Embarked</th>\n",
       "    </tr>\n",
       "  </thead>\n",
       "  <tbody>\n",
       "    <tr>\n",
       "      <th>0</th>\n",
       "      <td>1</td>\n",
       "      <td>0.0</td>\n",
       "      <td>3</td>\n",
       "      <td>Braund, Mr. Owen Harris</td>\n",
       "      <td>male</td>\n",
       "      <td>22.0</td>\n",
       "      <td>1</td>\n",
       "      <td>0</td>\n",
       "      <td>A/5 21171</td>\n",
       "      <td>7.2500</td>\n",
       "      <td>NaN</td>\n",
       "      <td>S</td>\n",
       "    </tr>\n",
       "    <tr>\n",
       "      <th>1</th>\n",
       "      <td>2</td>\n",
       "      <td>1.0</td>\n",
       "      <td>1</td>\n",
       "      <td>Cumings, Mrs. John Bradley (Florence Briggs Th...</td>\n",
       "      <td>female</td>\n",
       "      <td>38.0</td>\n",
       "      <td>1</td>\n",
       "      <td>0</td>\n",
       "      <td>PC 17599</td>\n",
       "      <td>71.2833</td>\n",
       "      <td>C85</td>\n",
       "      <td>C</td>\n",
       "    </tr>\n",
       "    <tr>\n",
       "      <th>2</th>\n",
       "      <td>3</td>\n",
       "      <td>1.0</td>\n",
       "      <td>3</td>\n",
       "      <td>Heikkinen, Miss. Laina</td>\n",
       "      <td>female</td>\n",
       "      <td>26.0</td>\n",
       "      <td>0</td>\n",
       "      <td>0</td>\n",
       "      <td>STON/O2. 3101282</td>\n",
       "      <td>7.9250</td>\n",
       "      <td>NaN</td>\n",
       "      <td>S</td>\n",
       "    </tr>\n",
       "    <tr>\n",
       "      <th>3</th>\n",
       "      <td>4</td>\n",
       "      <td>1.0</td>\n",
       "      <td>1</td>\n",
       "      <td>Futrelle, Mrs. Jacques Heath (Lily May Peel)</td>\n",
       "      <td>female</td>\n",
       "      <td>35.0</td>\n",
       "      <td>1</td>\n",
       "      <td>0</td>\n",
       "      <td>113803</td>\n",
       "      <td>53.1000</td>\n",
       "      <td>C123</td>\n",
       "      <td>S</td>\n",
       "    </tr>\n",
       "    <tr>\n",
       "      <th>4</th>\n",
       "      <td>5</td>\n",
       "      <td>0.0</td>\n",
       "      <td>3</td>\n",
       "      <td>Allen, Mr. William Henry</td>\n",
       "      <td>male</td>\n",
       "      <td>35.0</td>\n",
       "      <td>0</td>\n",
       "      <td>0</td>\n",
       "      <td>373450</td>\n",
       "      <td>8.0500</td>\n",
       "      <td>NaN</td>\n",
       "      <td>S</td>\n",
       "    </tr>\n",
       "  </tbody>\n",
       "</table>\n",
       "</div>"
      ],
      "text/plain": [
       "   PassengerId  Survived  Pclass  \\\n",
       "0            1       0.0       3   \n",
       "1            2       1.0       1   \n",
       "2            3       1.0       3   \n",
       "3            4       1.0       1   \n",
       "4            5       0.0       3   \n",
       "\n",
       "                                                Name     Sex   Age  SibSp  \\\n",
       "0                            Braund, Mr. Owen Harris    male  22.0      1   \n",
       "1  Cumings, Mrs. John Bradley (Florence Briggs Th...  female  38.0      1   \n",
       "2                             Heikkinen, Miss. Laina  female  26.0      0   \n",
       "3       Futrelle, Mrs. Jacques Heath (Lily May Peel)  female  35.0      1   \n",
       "4                           Allen, Mr. William Henry    male  35.0      0   \n",
       "\n",
       "   Parch            Ticket     Fare Cabin Embarked  \n",
       "0      0         A/5 21171   7.2500   NaN        S  \n",
       "1      0          PC 17599  71.2833   C85        C  \n",
       "2      0  STON/O2. 3101282   7.9250   NaN        S  \n",
       "3      0            113803  53.1000  C123        S  \n",
       "4      0            373450   8.0500   NaN        S  "
      ]
     },
     "execution_count": 8,
     "metadata": {},
     "output_type": "execute_result"
    }
   ],
   "source": [
    "data.head()"
   ]
  },
  {
   "cell_type": "code",
   "execution_count": 9,
   "id": "e80d3926",
   "metadata": {
    "execution": {
     "iopub.execute_input": "2022-04-18T03:26:59.172790Z",
     "iopub.status.busy": "2022-04-18T03:26:59.172520Z",
     "iopub.status.idle": "2022-04-18T03:26:59.178110Z",
     "shell.execute_reply": "2022-04-18T03:26:59.177155Z"
    },
    "papermill": {
     "duration": 0.040478,
     "end_time": "2022-04-18T03:26:59.180664",
     "exception": false,
     "start_time": "2022-04-18T03:26:59.140186",
     "status": "completed"
    },
    "tags": []
   },
   "outputs": [
    {
     "name": "stdout",
     "output_type": "stream",
     "text": [
      "891 418 1309\n"
     ]
    }
   ],
   "source": [
    "print(len(train), len(test), len(data))"
   ]
  },
  {
   "cell_type": "code",
   "execution_count": 10,
   "id": "e24e7749",
   "metadata": {
    "execution": {
     "iopub.execute_input": "2022-04-18T03:26:59.239485Z",
     "iopub.status.busy": "2022-04-18T03:26:59.239196Z",
     "iopub.status.idle": "2022-04-18T03:26:59.249329Z",
     "shell.execute_reply": "2022-04-18T03:26:59.248145Z"
    },
    "papermill": {
     "duration": 0.041862,
     "end_time": "2022-04-18T03:26:59.251762",
     "exception": false,
     "start_time": "2022-04-18T03:26:59.209900",
     "status": "completed"
    },
    "tags": []
   },
   "outputs": [
    {
     "data": {
      "text/plain": [
       "PassengerId       0\n",
       "Survived        418\n",
       "Pclass            0\n",
       "Name              0\n",
       "Sex               0\n",
       "Age             263\n",
       "SibSp             0\n",
       "Parch             0\n",
       "Ticket            0\n",
       "Fare              1\n",
       "Cabin          1014\n",
       "Embarked          2\n",
       "dtype: int64"
      ]
     },
     "execution_count": 10,
     "metadata": {},
     "output_type": "execute_result"
    }
   ],
   "source": [
    "data.isnull().sum()"
   ]
  },
  {
   "cell_type": "markdown",
   "id": "8502701b",
   "metadata": {
    "_cell_guid": "687a06ef-2686-4772-ac24-5e413adbda6d",
    "_uuid": "3846eff13d723fa6ff10117fc3ebc46f266b210f",
    "papermill": {
     "duration": 0.027817,
     "end_time": "2022-04-18T03:26:59.307686",
     "exception": false,
     "start_time": "2022-04-18T03:26:59.279869",
     "status": "completed"
    },
    "tags": []
   },
   "source": [
    "## 特徴量エンジニアリング"
   ]
  },
  {
   "cell_type": "markdown",
   "id": "a37640b9",
   "metadata": {
    "_cell_guid": "09253274-14c1-4ca9-a078-85229acba814",
    "_uuid": "234454857fff5bd61026c51cefd5eaee4e6a1879",
    "papermill": {
     "duration": 0.026956,
     "end_time": "2022-04-18T03:26:59.362914",
     "exception": false,
     "start_time": "2022-04-18T03:26:59.335958",
     "status": "completed"
    },
    "tags": []
   },
   "source": [
    "### 1. Pclass"
   ]
  },
  {
   "cell_type": "markdown",
   "id": "4e88fcf9",
   "metadata": {
    "_cell_guid": "b84a4c4b-9db2-4626-8a28-9817084eb554",
    "_uuid": "610bb44d64b400e7bafbf4d6a3295c7a43f1df23",
    "papermill": {
     "duration": 0.026597,
     "end_time": "2022-04-18T03:26:59.420894",
     "exception": false,
     "start_time": "2022-04-18T03:26:59.394297",
     "status": "completed"
    },
    "tags": []
   },
   "source": [
    "### 2. Sex"
   ]
  },
  {
   "cell_type": "code",
   "execution_count": 11,
   "id": "b5143801",
   "metadata": {
    "_cell_guid": "27c06d9c-61e1-4ba8-9cfc-81a2dd27390a",
    "_uuid": "07b661b256360d39ec561f465735042f37eee257",
    "execution": {
     "iopub.execute_input": "2022-04-18T03:26:59.478734Z",
     "iopub.status.busy": "2022-04-18T03:26:59.478089Z",
     "iopub.status.idle": "2022-04-18T03:26:59.486938Z",
     "shell.execute_reply": "2022-04-18T03:26:59.486297Z"
    },
    "papermill": {
     "duration": 0.039865,
     "end_time": "2022-04-18T03:26:59.489166",
     "exception": false,
     "start_time": "2022-04-18T03:26:59.449301",
     "status": "completed"
    },
    "tags": []
   },
   "outputs": [],
   "source": [
    "data['Sex'].replace(['male', 'female'], [0, 1], inplace=True)"
   ]
  },
  {
   "cell_type": "markdown",
   "id": "6eb7fd21",
   "metadata": {
    "_cell_guid": "2ab02454-4dfa-4aa3-ae94-7029b86ef69e",
    "_uuid": "2cb8d46258c4b14ec678543f99f4f5789d60b22f",
    "papermill": {
     "duration": 0.029376,
     "end_time": "2022-04-18T03:26:59.547959",
     "exception": false,
     "start_time": "2022-04-18T03:26:59.518583",
     "status": "completed"
    },
    "tags": []
   },
   "source": [
    "### 3. Embarked"
   ]
  },
  {
   "cell_type": "code",
   "execution_count": 12,
   "id": "5a82b0a7",
   "metadata": {
    "_cell_guid": "1329072e-5fc0-4aea-bc7b-ec7c27aff260",
    "_uuid": "5268b97889ec90508f501697d9e8d497398e0c46",
    "execution": {
     "iopub.execute_input": "2022-04-18T03:26:59.604215Z",
     "iopub.status.busy": "2022-04-18T03:26:59.603714Z",
     "iopub.status.idle": "2022-04-18T03:26:59.613152Z",
     "shell.execute_reply": "2022-04-18T03:26:59.611999Z"
    },
    "papermill": {
     "duration": 0.040182,
     "end_time": "2022-04-18T03:26:59.615617",
     "exception": false,
     "start_time": "2022-04-18T03:26:59.575435",
     "status": "completed"
    },
    "tags": []
   },
   "outputs": [],
   "source": [
    "data['Embarked'].fillna(('S'), inplace=True)\n",
    "data['Embarked'] = data['Embarked'].map({'S': 0, 'C': 1, 'Q': 2}).astype(int)"
   ]
  },
  {
   "cell_type": "markdown",
   "id": "ea7ae369",
   "metadata": {
    "_cell_guid": "8c33619e-a180-4c12-9f63-e7b3023206cd",
    "_uuid": "382a7882e2ae3144513f8ffea8478b4e24e8df0f",
    "papermill": {
     "duration": 0.027442,
     "end_time": "2022-04-18T03:26:59.671074",
     "exception": false,
     "start_time": "2022-04-18T03:26:59.643632",
     "status": "completed"
    },
    "tags": []
   },
   "source": [
    "### 4. Fare"
   ]
  },
  {
   "cell_type": "code",
   "execution_count": 13,
   "id": "b30b996c",
   "metadata": {
    "_cell_guid": "fd9b2edd-cf75-4ad8-a100-5ca06cb53f7b",
    "_uuid": "161a7a829ad6a45b7745655b1713888a6778818f",
    "execution": {
     "iopub.execute_input": "2022-04-18T03:26:59.725564Z",
     "iopub.status.busy": "2022-04-18T03:26:59.725308Z",
     "iopub.status.idle": "2022-04-18T03:26:59.732337Z",
     "shell.execute_reply": "2022-04-18T03:26:59.730590Z"
    },
    "papermill": {
     "duration": 0.037223,
     "end_time": "2022-04-18T03:26:59.734822",
     "exception": false,
     "start_time": "2022-04-18T03:26:59.697599",
     "status": "completed"
    },
    "tags": []
   },
   "outputs": [],
   "source": [
    "data['Fare'].fillna(np.mean(data['Fare']), inplace=True)"
   ]
  },
  {
   "cell_type": "markdown",
   "id": "ae321592",
   "metadata": {
    "_cell_guid": "1ea2fef1-ec32-4688-9030-63bafed9692c",
    "_uuid": "0c6cb694c63862e8f1d805fdcd54769312aae246",
    "papermill": {
     "duration": 0.02676,
     "end_time": "2022-04-18T03:26:59.788619",
     "exception": false,
     "start_time": "2022-04-18T03:26:59.761859",
     "status": "completed"
    },
    "tags": []
   },
   "source": [
    "### 5. Age"
   ]
  },
  {
   "cell_type": "code",
   "execution_count": 14,
   "id": "2bdf5c88",
   "metadata": {
    "_cell_guid": "5717373d-91ce-4cfd-a579-ef7dab192771",
    "_uuid": "42f1ebda5705d5272ea350bfd00e66c2f946a66e",
    "execution": {
     "iopub.execute_input": "2022-04-18T03:26:59.846024Z",
     "iopub.status.busy": "2022-04-18T03:26:59.845413Z",
     "iopub.status.idle": "2022-04-18T03:26:59.851252Z",
     "shell.execute_reply": "2022-04-18T03:26:59.850625Z"
    },
    "papermill": {
     "duration": 0.036659,
     "end_time": "2022-04-18T03:26:59.853125",
     "exception": false,
     "start_time": "2022-04-18T03:26:59.816466",
     "status": "completed"
    },
    "tags": []
   },
   "outputs": [],
   "source": [
    "age_avg = data['Age'].mean()\n",
    "age_std = data['Age'].std()\n",
    "\n",
    "data['Age'].fillna(np.random.randint(age_avg - age_std, age_avg + age_std), inplace=True)"
   ]
  },
  {
   "cell_type": "code",
   "execution_count": 15,
   "id": "580f3cb0",
   "metadata": {
    "_cell_guid": "d3f3527c-8758-41c2-bbe3-14b604b2d317",
    "_uuid": "f7341a6f089464180e94d5e09d1071e0350cff3d",
    "execution": {
     "iopub.execute_input": "2022-04-18T03:26:59.909850Z",
     "iopub.status.busy": "2022-04-18T03:26:59.908908Z",
     "iopub.status.idle": "2022-04-18T03:26:59.915595Z",
     "shell.execute_reply": "2022-04-18T03:26:59.914567Z"
    },
    "papermill": {
     "duration": 0.037388,
     "end_time": "2022-04-18T03:26:59.917683",
     "exception": false,
     "start_time": "2022-04-18T03:26:59.880295",
     "status": "completed"
    },
    "tags": []
   },
   "outputs": [],
   "source": [
    "delete_columns = ['Name', 'PassengerId', 'SibSp', 'Parch', 'Ticket', 'Cabin']\n",
    "data.drop(delete_columns, axis=1, inplace=True)"
   ]
  },
  {
   "cell_type": "code",
   "execution_count": 16,
   "id": "5df9777d",
   "metadata": {
    "execution": {
     "iopub.execute_input": "2022-04-18T03:26:59.975370Z",
     "iopub.status.busy": "2022-04-18T03:26:59.974431Z",
     "iopub.status.idle": "2022-04-18T03:26:59.979180Z",
     "shell.execute_reply": "2022-04-18T03:26:59.978620Z"
    },
    "papermill": {
     "duration": 0.036331,
     "end_time": "2022-04-18T03:26:59.981121",
     "exception": false,
     "start_time": "2022-04-18T03:26:59.944790",
     "status": "completed"
    },
    "tags": []
   },
   "outputs": [],
   "source": [
    "train = data[:len(train)]\n",
    "test = data[len(train):]"
   ]
  },
  {
   "cell_type": "code",
   "execution_count": 17,
   "id": "0c62e650",
   "metadata": {
    "_cell_guid": "03d91a2b-08da-4593-8c1e-840fb7bec469",
    "_uuid": "768050e7f210d95ba28226ada778e763d21c97f8",
    "execution": {
     "iopub.execute_input": "2022-04-18T03:27:00.045032Z",
     "iopub.status.busy": "2022-04-18T03:27:00.044532Z",
     "iopub.status.idle": "2022-04-18T03:27:00.053496Z",
     "shell.execute_reply": "2022-04-18T03:27:00.052589Z"
    },
    "papermill": {
     "duration": 0.04559,
     "end_time": "2022-04-18T03:27:00.055885",
     "exception": false,
     "start_time": "2022-04-18T03:27:00.010295",
     "status": "completed"
    },
    "scrolled": true,
    "tags": []
   },
   "outputs": [],
   "source": [
    "y_train = train['Survived']\n",
    "X_train = train.drop('Survived', axis=1)\n",
    "X_test = test.drop('Survived', axis=1)"
   ]
  },
  {
   "cell_type": "code",
   "execution_count": 18,
   "id": "4e5f2183",
   "metadata": {
    "execution": {
     "iopub.execute_input": "2022-04-18T03:27:00.126004Z",
     "iopub.status.busy": "2022-04-18T03:27:00.125746Z",
     "iopub.status.idle": "2022-04-18T03:27:00.136869Z",
     "shell.execute_reply": "2022-04-18T03:27:00.136098Z"
    },
    "papermill": {
     "duration": 0.04616,
     "end_time": "2022-04-18T03:27:00.139790",
     "exception": false,
     "start_time": "2022-04-18T03:27:00.093630",
     "status": "completed"
    },
    "tags": []
   },
   "outputs": [
    {
     "data": {
      "text/html": [
       "<div>\n",
       "<style scoped>\n",
       "    .dataframe tbody tr th:only-of-type {\n",
       "        vertical-align: middle;\n",
       "    }\n",
       "\n",
       "    .dataframe tbody tr th {\n",
       "        vertical-align: top;\n",
       "    }\n",
       "\n",
       "    .dataframe thead th {\n",
       "        text-align: right;\n",
       "    }\n",
       "</style>\n",
       "<table border=\"1\" class=\"dataframe\">\n",
       "  <thead>\n",
       "    <tr style=\"text-align: right;\">\n",
       "      <th></th>\n",
       "      <th>Pclass</th>\n",
       "      <th>Sex</th>\n",
       "      <th>Age</th>\n",
       "      <th>Fare</th>\n",
       "      <th>Embarked</th>\n",
       "    </tr>\n",
       "  </thead>\n",
       "  <tbody>\n",
       "    <tr>\n",
       "      <th>0</th>\n",
       "      <td>3</td>\n",
       "      <td>0</td>\n",
       "      <td>22.0</td>\n",
       "      <td>7.2500</td>\n",
       "      <td>0</td>\n",
       "    </tr>\n",
       "    <tr>\n",
       "      <th>1</th>\n",
       "      <td>1</td>\n",
       "      <td>1</td>\n",
       "      <td>38.0</td>\n",
       "      <td>71.2833</td>\n",
       "      <td>1</td>\n",
       "    </tr>\n",
       "    <tr>\n",
       "      <th>2</th>\n",
       "      <td>3</td>\n",
       "      <td>1</td>\n",
       "      <td>26.0</td>\n",
       "      <td>7.9250</td>\n",
       "      <td>0</td>\n",
       "    </tr>\n",
       "    <tr>\n",
       "      <th>3</th>\n",
       "      <td>1</td>\n",
       "      <td>1</td>\n",
       "      <td>35.0</td>\n",
       "      <td>53.1000</td>\n",
       "      <td>0</td>\n",
       "    </tr>\n",
       "    <tr>\n",
       "      <th>4</th>\n",
       "      <td>3</td>\n",
       "      <td>0</td>\n",
       "      <td>35.0</td>\n",
       "      <td>8.0500</td>\n",
       "      <td>0</td>\n",
       "    </tr>\n",
       "  </tbody>\n",
       "</table>\n",
       "</div>"
      ],
      "text/plain": [
       "   Pclass  Sex   Age     Fare  Embarked\n",
       "0       3    0  22.0   7.2500         0\n",
       "1       1    1  38.0  71.2833         1\n",
       "2       3    1  26.0   7.9250         0\n",
       "3       1    1  35.0  53.1000         0\n",
       "4       3    0  35.0   8.0500         0"
      ]
     },
     "execution_count": 18,
     "metadata": {},
     "output_type": "execute_result"
    }
   ],
   "source": [
    "X_train.head()"
   ]
  },
  {
   "cell_type": "code",
   "execution_count": 19,
   "id": "f921775c",
   "metadata": {
    "execution": {
     "iopub.execute_input": "2022-04-18T03:27:00.216809Z",
     "iopub.status.busy": "2022-04-18T03:27:00.216569Z",
     "iopub.status.idle": "2022-04-18T03:27:00.224793Z",
     "shell.execute_reply": "2022-04-18T03:27:00.223141Z"
    },
    "papermill": {
     "duration": 0.043806,
     "end_time": "2022-04-18T03:27:00.227607",
     "exception": false,
     "start_time": "2022-04-18T03:27:00.183801",
     "status": "completed"
    },
    "tags": []
   },
   "outputs": [
    {
     "data": {
      "text/plain": [
       "0    0.0\n",
       "1    1.0\n",
       "2    1.0\n",
       "3    1.0\n",
       "4    0.0\n",
       "Name: Survived, dtype: float64"
      ]
     },
     "execution_count": 19,
     "metadata": {},
     "output_type": "execute_result"
    }
   ],
   "source": [
    "y_train.head()"
   ]
  },
  {
   "cell_type": "markdown",
   "id": "13909eff",
   "metadata": {
    "papermill": {
     "duration": 0.041971,
     "end_time": "2022-04-18T03:27:00.302408",
     "exception": false,
     "start_time": "2022-04-18T03:27:00.260437",
     "status": "completed"
    },
    "tags": []
   },
   "source": [
    "## 機械学習アルゴリズム"
   ]
  },
  {
   "cell_type": "code",
   "execution_count": 20,
   "id": "8f141ea9",
   "metadata": {
    "execution": {
     "iopub.execute_input": "2022-04-18T03:27:00.366560Z",
     "iopub.status.busy": "2022-04-18T03:27:00.365946Z",
     "iopub.status.idle": "2022-04-18T03:27:01.870526Z",
     "shell.execute_reply": "2022-04-18T03:27:01.869413Z"
    },
    "papermill": {
     "duration": 1.539033,
     "end_time": "2022-04-18T03:27:01.872829",
     "exception": false,
     "start_time": "2022-04-18T03:27:00.333796",
     "status": "completed"
    },
    "tags": []
   },
   "outputs": [],
   "source": [
    "from sklearn.linear_model import LogisticRegression"
   ]
  },
  {
   "cell_type": "code",
   "execution_count": 21,
   "id": "3153b69c",
   "metadata": {
    "execution": {
     "iopub.execute_input": "2022-04-18T03:27:01.932425Z",
     "iopub.status.busy": "2022-04-18T03:27:01.932127Z",
     "iopub.status.idle": "2022-04-18T03:27:01.937660Z",
     "shell.execute_reply": "2022-04-18T03:27:01.936193Z"
    },
    "papermill": {
     "duration": 0.037981,
     "end_time": "2022-04-18T03:27:01.940226",
     "exception": false,
     "start_time": "2022-04-18T03:27:01.902245",
     "status": "completed"
    },
    "tags": []
   },
   "outputs": [],
   "source": [
    "clf = LogisticRegression(penalty='l2', solver='sag', random_state=0)"
   ]
  },
  {
   "cell_type": "code",
   "execution_count": 22,
   "id": "c49bbb7a",
   "metadata": {
    "execution": {
     "iopub.execute_input": "2022-04-18T03:27:02.006901Z",
     "iopub.status.busy": "2022-04-18T03:27:02.006394Z",
     "iopub.status.idle": "2022-04-18T03:27:02.032683Z",
     "shell.execute_reply": "2022-04-18T03:27:02.031435Z"
    },
    "papermill": {
     "duration": 0.064689,
     "end_time": "2022-04-18T03:27:02.035467",
     "exception": false,
     "start_time": "2022-04-18T03:27:01.970778",
     "status": "completed"
    },
    "tags": []
   },
   "outputs": [
    {
     "name": "stderr",
     "output_type": "stream",
     "text": [
      "/opt/conda/lib/python3.7/site-packages/sklearn/linear_model/_sag.py:354: ConvergenceWarning: The max_iter was reached which means the coef_ did not converge\n",
      "  ConvergenceWarning,\n"
     ]
    },
    {
     "data": {
      "text/plain": [
       "LogisticRegression(random_state=0, solver='sag')"
      ]
     },
     "execution_count": 22,
     "metadata": {},
     "output_type": "execute_result"
    }
   ],
   "source": [
    "clf.fit(X_train, y_train)"
   ]
  },
  {
   "cell_type": "code",
   "execution_count": 23,
   "id": "cd3c9e1f",
   "metadata": {
    "execution": {
     "iopub.execute_input": "2022-04-18T03:27:02.100869Z",
     "iopub.status.busy": "2022-04-18T03:27:02.100300Z",
     "iopub.status.idle": "2022-04-18T03:27:02.109835Z",
     "shell.execute_reply": "2022-04-18T03:27:02.108552Z"
    },
    "papermill": {
     "duration": 0.044441,
     "end_time": "2022-04-18T03:27:02.112425",
     "exception": false,
     "start_time": "2022-04-18T03:27:02.067984",
     "status": "completed"
    },
    "tags": []
   },
   "outputs": [],
   "source": [
    "y_pred = clf.predict(X_test)"
   ]
  },
  {
   "cell_type": "code",
   "execution_count": 24,
   "id": "10b28fa5",
   "metadata": {
    "execution": {
     "iopub.execute_input": "2022-04-18T03:27:02.175431Z",
     "iopub.status.busy": "2022-04-18T03:27:02.174576Z",
     "iopub.status.idle": "2022-04-18T03:27:02.184466Z",
     "shell.execute_reply": "2022-04-18T03:27:02.182976Z"
    },
    "papermill": {
     "duration": 0.04274,
     "end_time": "2022-04-18T03:27:02.186554",
     "exception": false,
     "start_time": "2022-04-18T03:27:02.143814",
     "status": "completed"
    },
    "tags": []
   },
   "outputs": [
    {
     "data": {
      "text/plain": [
       "array([0., 0., 0., 0., 0., 0., 0., 0., 0., 0., 0., 0., 1., 0., 0., 0., 0.,\n",
       "       0., 0., 0.])"
      ]
     },
     "execution_count": 24,
     "metadata": {},
     "output_type": "execute_result"
    }
   ],
   "source": [
    "y_pred[:20]"
   ]
  },
  {
   "cell_type": "markdown",
   "id": "df9cf8fd",
   "metadata": {
    "_cell_guid": "a37e176c-3b55-43ab-b358-324dc384ceef",
    "_uuid": "d4d6df3e6c40063309ea72f4d4cea51cf616fd80",
    "papermill": {
     "duration": 0.031082,
     "end_time": "2022-04-18T03:27:02.251611",
     "exception": false,
     "start_time": "2022-04-18T03:27:02.220529",
     "status": "completed"
    },
    "tags": []
   },
   "source": [
    "## 提出"
   ]
  },
  {
   "cell_type": "code",
   "execution_count": 25,
   "id": "8a66bd7b",
   "metadata": {
    "_cell_guid": "8111500e-330c-411e-a742-66b9d4c5cb2c",
    "_uuid": "40858051e4f458835f937275be4dfe3dfa68b25f",
    "execution": {
     "iopub.execute_input": "2022-04-18T03:27:02.317834Z",
     "iopub.status.busy": "2022-04-18T03:27:02.317178Z",
     "iopub.status.idle": "2022-04-18T03:27:02.332042Z",
     "shell.execute_reply": "2022-04-18T03:27:02.330868Z"
    },
    "papermill": {
     "duration": 0.050736,
     "end_time": "2022-04-18T03:27:02.334640",
     "exception": false,
     "start_time": "2022-04-18T03:27:02.283904",
     "status": "completed"
    },
    "tags": []
   },
   "outputs": [],
   "source": [
    "sub = pd.read_csv('../input/titanic/gender_submission.csv')\n",
    "sub['Survived'] = list(map(int, y_pred))\n",
    "sub.to_csv('submission.csv', index=False)"
   ]
  },
  {
   "cell_type": "code",
   "execution_count": null,
   "id": "ab951851",
   "metadata": {
    "_uuid": "d51cef4a043bbab7560dc972a948d96a0b369760",
    "papermill": {
     "duration": 0.03114,
     "end_time": "2022-04-18T03:27:02.397847",
     "exception": false,
     "start_time": "2022-04-18T03:27:02.366707",
     "status": "completed"
    },
    "tags": []
   },
   "outputs": [],
   "source": []
  }
 ],
 "metadata": {
  "kernelspec": {
   "display_name": "Python 3",
   "language": "python",
   "name": "python3"
  },
  "language_info": {
   "codemirror_mode": {
    "name": "ipython",
    "version": 3
   },
   "file_extension": ".py",
   "mimetype": "text/x-python",
   "name": "python",
   "nbconvert_exporter": "python",
   "pygments_lexer": "ipython3",
   "version": "3.7.12"
  },
  "papermill": {
   "default_parameters": {},
   "duration": 15.998984,
   "end_time": "2022-04-18T03:27:03.356310",
   "environment_variables": {},
   "exception": null,
   "input_path": "__notebook__.ipynb",
   "output_path": "__notebook__.ipynb",
   "parameters": {},
   "start_time": "2022-04-18T03:26:47.357326",
   "version": "2.3.4"
  }
 },
 "nbformat": 4,
 "nbformat_minor": 5
}
